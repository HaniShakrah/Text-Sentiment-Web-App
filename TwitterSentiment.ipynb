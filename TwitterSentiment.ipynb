{
  "nbformat": 4,
  "nbformat_minor": 0,
  "metadata": {
    "colab": {
      "provenance": [],
      "machine_shape": "hm"
    },
    "kernelspec": {
      "name": "python3",
      "display_name": "Python 3"
    },
    "language_info": {
      "name": "python"
    }
  },
  "cells": [
    {
      "cell_type": "markdown",
      "source": [
        "## Load Dependencies"
      ],
      "metadata": {
        "id": "BmQ-2qgOcBHh"
      }
    },
    {
      "cell_type": "code",
      "source": [
        "import kagglehub\n",
        "import pandas as pd\n",
        "import os\n",
        "import seaborn as sns\n",
        "import matplotlib.pyplot as plt\n",
        "\n",
        "import re\n",
        "import nltk\n",
        "from nltk.stem.porter import PorterStemmer\n",
        "from nltk.corpus import stopwords\n",
        "nltk.download('stopwords')\n",
        "from sklearn.feature_extraction.text import TfidfVectorizer\n",
        "from sklearn.model_selection import train_test_split\n",
        "\n",
        "import pickle\n",
        "from sklearn import tree\n",
        "\n",
        "import xgboost as xgb\n",
        "from sklearn.linear_model import LogisticRegression\n",
        "from sklearn.naive_bayes import BernoulliNB\n",
        "from sklearn.svm import LinearSVC\n",
        "from sklearn.neighbors import KNeighborsClassifier\n",
        "from sklearn.ensemble import RandomForestClassifier\n",
        "from sklearn.ensemble import GradientBoostingClassifier\n",
        "from sklearn.svm import SVC\n",
        "from sklearn.kernel_approximation import RBFSampler\n",
        "from sklearn.linear_model import SGDClassifier\n",
        "from sklearn.ensemble import AdaBoostClassifier\n",
        "from sklearn.linear_model import LogisticRegression\n",
        "from sklearn.tree import DecisionTreeClassifier\n",
        "from sklearn.naive_bayes import MultinomialNB\n",
        "from sklearn.metrics import accuracy_score,confusion_matrix, classification_report\n",
        "import optuna\n"
      ],
      "metadata": {
        "colab": {
          "base_uri": "https://localhost:8080/"
        },
        "id": "ruTodQBfPCnP",
        "outputId": "a897965e-e51a-48e0-8c59-0551e41225e2"
      },
      "execution_count": 3,
      "outputs": [
        {
          "output_type": "stream",
          "name": "stderr",
          "text": [
            "[nltk_data] Downloading package stopwords to /root/nltk_data...\n",
            "[nltk_data]   Package stopwords is already up-to-date!\n"
          ]
        }
      ]
    },
    {
      "cell_type": "code",
      "source": [
        "from google.colab import drive\n",
        "drive.mount('/content/drive')\n",
        "os.chdir('/content/drive/MyDrive/Projects/TweetClassification')"
      ],
      "metadata": {
        "colab": {
          "base_uri": "https://localhost:8080/"
        },
        "id": "rSz0TqlAOhV3",
        "outputId": "5144ab95-5c24-4d22-ef56-d25ef2784407"
      },
      "execution_count": 4,
      "outputs": [
        {
          "output_type": "stream",
          "name": "stdout",
          "text": [
            "Mounted at /content/drive\n"
          ]
        }
      ]
    },
    {
      "cell_type": "markdown",
      "source": [
        "## Retrieving and Exploring Data"
      ],
      "metadata": {
        "id": "tmTSbNfNOK19"
      }
    },
    {
      "cell_type": "code",
      "execution_count": 5,
      "metadata": {
        "id": "rlC7L6rBN3Ph",
        "colab": {
          "base_uri": "https://localhost:8080/"
        },
        "outputId": "b5ec9600-3bc5-455e-f915-d9f14c48851d"
      },
      "outputs": [
        {
          "output_type": "stream",
          "name": "stdout",
          "text": [
            "Warning: Looks like you're using an outdated `kagglehub` version (installed: 0.3.6), please consider upgrading to the latest version (0.3.7).\n",
            "Downloading from https://www.kaggle.com/api/v1/datasets/download/kazanova/sentiment140?dataset_version_number=2...\n"
          ]
        },
        {
          "output_type": "stream",
          "name": "stderr",
          "text": [
            "100%|██████████| 80.9M/80.9M [00:03<00:00, 21.5MB/s]"
          ]
        },
        {
          "output_type": "stream",
          "name": "stdout",
          "text": [
            "Extracting files...\n"
          ]
        },
        {
          "output_type": "stream",
          "name": "stderr",
          "text": [
            "\n"
          ]
        },
        {
          "output_type": "stream",
          "name": "stdout",
          "text": [
            "Path to dataset files: /root/.cache/kagglehub/datasets/kazanova/sentiment140/versions/2\n"
          ]
        }
      ],
      "source": [
        "# Download from Kaggle\n",
        "path = kagglehub.dataset_download(\"kazanova/sentiment140\")\n",
        "\n",
        "print(\"Path to dataset files:\", path)"
      ]
    },
    {
      "cell_type": "code",
      "source": [
        "# Load into dataframe\n",
        "columns = ['target', 'ids', 'date', 'flag', 'user', 'text']\n",
        "\n",
        "dataset_path = os.path.join(path, \"training.1600000.processed.noemoticon.csv\")\n",
        "df = pd.read_csv(dataset_path, encoding = \"latin1\", names=columns)\n",
        "\n",
        "print(df.shape)\n",
        "df.head(5)"
      ],
      "metadata": {
        "id": "xi-DYgx6OrC7",
        "colab": {
          "base_uri": "https://localhost:8080/",
          "height": 224
        },
        "outputId": "1b0ac9eb-2c02-4f8a-e3e4-2d07a92b08a1"
      },
      "execution_count": 6,
      "outputs": [
        {
          "output_type": "stream",
          "name": "stdout",
          "text": [
            "(1600000, 6)\n"
          ]
        },
        {
          "output_type": "execute_result",
          "data": {
            "text/plain": [
              "   target         ids                          date      flag  \\\n",
              "0       0  1467810369  Mon Apr 06 22:19:45 PDT 2009  NO_QUERY   \n",
              "1       0  1467810672  Mon Apr 06 22:19:49 PDT 2009  NO_QUERY   \n",
              "2       0  1467810917  Mon Apr 06 22:19:53 PDT 2009  NO_QUERY   \n",
              "3       0  1467811184  Mon Apr 06 22:19:57 PDT 2009  NO_QUERY   \n",
              "4       0  1467811193  Mon Apr 06 22:19:57 PDT 2009  NO_QUERY   \n",
              "\n",
              "              user                                               text  \n",
              "0  _TheSpecialOne_  @switchfoot http://twitpic.com/2y1zl - Awww, t...  \n",
              "1    scotthamilton  is upset that he can't update his Facebook by ...  \n",
              "2         mattycus  @Kenichan I dived many times for the ball. Man...  \n",
              "3          ElleCTF    my whole body feels itchy and like its on fire   \n",
              "4           Karoli  @nationwideclass no, it's not behaving at all....  "
            ],
            "text/html": [
              "\n",
              "  <div id=\"df-7ac59dd8-da9d-4ef5-8df5-44217f5d4ca2\" class=\"colab-df-container\">\n",
              "    <div>\n",
              "<style scoped>\n",
              "    .dataframe tbody tr th:only-of-type {\n",
              "        vertical-align: middle;\n",
              "    }\n",
              "\n",
              "    .dataframe tbody tr th {\n",
              "        vertical-align: top;\n",
              "    }\n",
              "\n",
              "    .dataframe thead th {\n",
              "        text-align: right;\n",
              "    }\n",
              "</style>\n",
              "<table border=\"1\" class=\"dataframe\">\n",
              "  <thead>\n",
              "    <tr style=\"text-align: right;\">\n",
              "      <th></th>\n",
              "      <th>target</th>\n",
              "      <th>ids</th>\n",
              "      <th>date</th>\n",
              "      <th>flag</th>\n",
              "      <th>user</th>\n",
              "      <th>text</th>\n",
              "    </tr>\n",
              "  </thead>\n",
              "  <tbody>\n",
              "    <tr>\n",
              "      <th>0</th>\n",
              "      <td>0</td>\n",
              "      <td>1467810369</td>\n",
              "      <td>Mon Apr 06 22:19:45 PDT 2009</td>\n",
              "      <td>NO_QUERY</td>\n",
              "      <td>_TheSpecialOne_</td>\n",
              "      <td>@switchfoot http://twitpic.com/2y1zl - Awww, t...</td>\n",
              "    </tr>\n",
              "    <tr>\n",
              "      <th>1</th>\n",
              "      <td>0</td>\n",
              "      <td>1467810672</td>\n",
              "      <td>Mon Apr 06 22:19:49 PDT 2009</td>\n",
              "      <td>NO_QUERY</td>\n",
              "      <td>scotthamilton</td>\n",
              "      <td>is upset that he can't update his Facebook by ...</td>\n",
              "    </tr>\n",
              "    <tr>\n",
              "      <th>2</th>\n",
              "      <td>0</td>\n",
              "      <td>1467810917</td>\n",
              "      <td>Mon Apr 06 22:19:53 PDT 2009</td>\n",
              "      <td>NO_QUERY</td>\n",
              "      <td>mattycus</td>\n",
              "      <td>@Kenichan I dived many times for the ball. Man...</td>\n",
              "    </tr>\n",
              "    <tr>\n",
              "      <th>3</th>\n",
              "      <td>0</td>\n",
              "      <td>1467811184</td>\n",
              "      <td>Mon Apr 06 22:19:57 PDT 2009</td>\n",
              "      <td>NO_QUERY</td>\n",
              "      <td>ElleCTF</td>\n",
              "      <td>my whole body feels itchy and like its on fire</td>\n",
              "    </tr>\n",
              "    <tr>\n",
              "      <th>4</th>\n",
              "      <td>0</td>\n",
              "      <td>1467811193</td>\n",
              "      <td>Mon Apr 06 22:19:57 PDT 2009</td>\n",
              "      <td>NO_QUERY</td>\n",
              "      <td>Karoli</td>\n",
              "      <td>@nationwideclass no, it's not behaving at all....</td>\n",
              "    </tr>\n",
              "  </tbody>\n",
              "</table>\n",
              "</div>\n",
              "    <div class=\"colab-df-buttons\">\n",
              "\n",
              "  <div class=\"colab-df-container\">\n",
              "    <button class=\"colab-df-convert\" onclick=\"convertToInteractive('df-7ac59dd8-da9d-4ef5-8df5-44217f5d4ca2')\"\n",
              "            title=\"Convert this dataframe to an interactive table.\"\n",
              "            style=\"display:none;\">\n",
              "\n",
              "  <svg xmlns=\"http://www.w3.org/2000/svg\" height=\"24px\" viewBox=\"0 -960 960 960\">\n",
              "    <path d=\"M120-120v-720h720v720H120Zm60-500h600v-160H180v160Zm220 220h160v-160H400v160Zm0 220h160v-160H400v160ZM180-400h160v-160H180v160Zm440 0h160v-160H620v160ZM180-180h160v-160H180v160Zm440 0h160v-160H620v160Z\"/>\n",
              "  </svg>\n",
              "    </button>\n",
              "\n",
              "  <style>\n",
              "    .colab-df-container {\n",
              "      display:flex;\n",
              "      gap: 12px;\n",
              "    }\n",
              "\n",
              "    .colab-df-convert {\n",
              "      background-color: #E8F0FE;\n",
              "      border: none;\n",
              "      border-radius: 50%;\n",
              "      cursor: pointer;\n",
              "      display: none;\n",
              "      fill: #1967D2;\n",
              "      height: 32px;\n",
              "      padding: 0 0 0 0;\n",
              "      width: 32px;\n",
              "    }\n",
              "\n",
              "    .colab-df-convert:hover {\n",
              "      background-color: #E2EBFA;\n",
              "      box-shadow: 0px 1px 2px rgba(60, 64, 67, 0.3), 0px 1px 3px 1px rgba(60, 64, 67, 0.15);\n",
              "      fill: #174EA6;\n",
              "    }\n",
              "\n",
              "    .colab-df-buttons div {\n",
              "      margin-bottom: 4px;\n",
              "    }\n",
              "\n",
              "    [theme=dark] .colab-df-convert {\n",
              "      background-color: #3B4455;\n",
              "      fill: #D2E3FC;\n",
              "    }\n",
              "\n",
              "    [theme=dark] .colab-df-convert:hover {\n",
              "      background-color: #434B5C;\n",
              "      box-shadow: 0px 1px 3px 1px rgba(0, 0, 0, 0.15);\n",
              "      filter: drop-shadow(0px 1px 2px rgba(0, 0, 0, 0.3));\n",
              "      fill: #FFFFFF;\n",
              "    }\n",
              "  </style>\n",
              "\n",
              "    <script>\n",
              "      const buttonEl =\n",
              "        document.querySelector('#df-7ac59dd8-da9d-4ef5-8df5-44217f5d4ca2 button.colab-df-convert');\n",
              "      buttonEl.style.display =\n",
              "        google.colab.kernel.accessAllowed ? 'block' : 'none';\n",
              "\n",
              "      async function convertToInteractive(key) {\n",
              "        const element = document.querySelector('#df-7ac59dd8-da9d-4ef5-8df5-44217f5d4ca2');\n",
              "        const dataTable =\n",
              "          await google.colab.kernel.invokeFunction('convertToInteractive',\n",
              "                                                    [key], {});\n",
              "        if (!dataTable) return;\n",
              "\n",
              "        const docLinkHtml = 'Like what you see? Visit the ' +\n",
              "          '<a target=\"_blank\" href=https://colab.research.google.com/notebooks/data_table.ipynb>data table notebook</a>'\n",
              "          + ' to learn more about interactive tables.';\n",
              "        element.innerHTML = '';\n",
              "        dataTable['output_type'] = 'display_data';\n",
              "        await google.colab.output.renderOutput(dataTable, element);\n",
              "        const docLink = document.createElement('div');\n",
              "        docLink.innerHTML = docLinkHtml;\n",
              "        element.appendChild(docLink);\n",
              "      }\n",
              "    </script>\n",
              "  </div>\n",
              "\n",
              "\n",
              "<div id=\"df-049943be-31e2-4d02-8889-fb8524e0904c\">\n",
              "  <button class=\"colab-df-quickchart\" onclick=\"quickchart('df-049943be-31e2-4d02-8889-fb8524e0904c')\"\n",
              "            title=\"Suggest charts\"\n",
              "            style=\"display:none;\">\n",
              "\n",
              "<svg xmlns=\"http://www.w3.org/2000/svg\" height=\"24px\"viewBox=\"0 0 24 24\"\n",
              "     width=\"24px\">\n",
              "    <g>\n",
              "        <path d=\"M19 3H5c-1.1 0-2 .9-2 2v14c0 1.1.9 2 2 2h14c1.1 0 2-.9 2-2V5c0-1.1-.9-2-2-2zM9 17H7v-7h2v7zm4 0h-2V7h2v10zm4 0h-2v-4h2v4z\"/>\n",
              "    </g>\n",
              "</svg>\n",
              "  </button>\n",
              "\n",
              "<style>\n",
              "  .colab-df-quickchart {\n",
              "      --bg-color: #E8F0FE;\n",
              "      --fill-color: #1967D2;\n",
              "      --hover-bg-color: #E2EBFA;\n",
              "      --hover-fill-color: #174EA6;\n",
              "      --disabled-fill-color: #AAA;\n",
              "      --disabled-bg-color: #DDD;\n",
              "  }\n",
              "\n",
              "  [theme=dark] .colab-df-quickchart {\n",
              "      --bg-color: #3B4455;\n",
              "      --fill-color: #D2E3FC;\n",
              "      --hover-bg-color: #434B5C;\n",
              "      --hover-fill-color: #FFFFFF;\n",
              "      --disabled-bg-color: #3B4455;\n",
              "      --disabled-fill-color: #666;\n",
              "  }\n",
              "\n",
              "  .colab-df-quickchart {\n",
              "    background-color: var(--bg-color);\n",
              "    border: none;\n",
              "    border-radius: 50%;\n",
              "    cursor: pointer;\n",
              "    display: none;\n",
              "    fill: var(--fill-color);\n",
              "    height: 32px;\n",
              "    padding: 0;\n",
              "    width: 32px;\n",
              "  }\n",
              "\n",
              "  .colab-df-quickchart:hover {\n",
              "    background-color: var(--hover-bg-color);\n",
              "    box-shadow: 0 1px 2px rgba(60, 64, 67, 0.3), 0 1px 3px 1px rgba(60, 64, 67, 0.15);\n",
              "    fill: var(--button-hover-fill-color);\n",
              "  }\n",
              "\n",
              "  .colab-df-quickchart-complete:disabled,\n",
              "  .colab-df-quickchart-complete:disabled:hover {\n",
              "    background-color: var(--disabled-bg-color);\n",
              "    fill: var(--disabled-fill-color);\n",
              "    box-shadow: none;\n",
              "  }\n",
              "\n",
              "  .colab-df-spinner {\n",
              "    border: 2px solid var(--fill-color);\n",
              "    border-color: transparent;\n",
              "    border-bottom-color: var(--fill-color);\n",
              "    animation:\n",
              "      spin 1s steps(1) infinite;\n",
              "  }\n",
              "\n",
              "  @keyframes spin {\n",
              "    0% {\n",
              "      border-color: transparent;\n",
              "      border-bottom-color: var(--fill-color);\n",
              "      border-left-color: var(--fill-color);\n",
              "    }\n",
              "    20% {\n",
              "      border-color: transparent;\n",
              "      border-left-color: var(--fill-color);\n",
              "      border-top-color: var(--fill-color);\n",
              "    }\n",
              "    30% {\n",
              "      border-color: transparent;\n",
              "      border-left-color: var(--fill-color);\n",
              "      border-top-color: var(--fill-color);\n",
              "      border-right-color: var(--fill-color);\n",
              "    }\n",
              "    40% {\n",
              "      border-color: transparent;\n",
              "      border-right-color: var(--fill-color);\n",
              "      border-top-color: var(--fill-color);\n",
              "    }\n",
              "    60% {\n",
              "      border-color: transparent;\n",
              "      border-right-color: var(--fill-color);\n",
              "    }\n",
              "    80% {\n",
              "      border-color: transparent;\n",
              "      border-right-color: var(--fill-color);\n",
              "      border-bottom-color: var(--fill-color);\n",
              "    }\n",
              "    90% {\n",
              "      border-color: transparent;\n",
              "      border-bottom-color: var(--fill-color);\n",
              "    }\n",
              "  }\n",
              "</style>\n",
              "\n",
              "  <script>\n",
              "    async function quickchart(key) {\n",
              "      const quickchartButtonEl =\n",
              "        document.querySelector('#' + key + ' button');\n",
              "      quickchartButtonEl.disabled = true;  // To prevent multiple clicks.\n",
              "      quickchartButtonEl.classList.add('colab-df-spinner');\n",
              "      try {\n",
              "        const charts = await google.colab.kernel.invokeFunction(\n",
              "            'suggestCharts', [key], {});\n",
              "      } catch (error) {\n",
              "        console.error('Error during call to suggestCharts:', error);\n",
              "      }\n",
              "      quickchartButtonEl.classList.remove('colab-df-spinner');\n",
              "      quickchartButtonEl.classList.add('colab-df-quickchart-complete');\n",
              "    }\n",
              "    (() => {\n",
              "      let quickchartButtonEl =\n",
              "        document.querySelector('#df-049943be-31e2-4d02-8889-fb8524e0904c button');\n",
              "      quickchartButtonEl.style.display =\n",
              "        google.colab.kernel.accessAllowed ? 'block' : 'none';\n",
              "    })();\n",
              "  </script>\n",
              "</div>\n",
              "\n",
              "    </div>\n",
              "  </div>\n"
            ],
            "application/vnd.google.colaboratory.intrinsic+json": {
              "type": "dataframe",
              "variable_name": "df"
            }
          },
          "metadata": {},
          "execution_count": 6
        }
      ]
    },
    {
      "cell_type": "code",
      "source": [
        "df.drop(['ids', 'date', 'flag', 'user'], axis=1, inplace=True)\n",
        "df.head(5)"
      ],
      "metadata": {
        "id": "ZelSiRdLUMVQ",
        "colab": {
          "base_uri": "https://localhost:8080/",
          "height": 206
        },
        "outputId": "397b7f7f-c4c1-4519-a3a9-266ba5ebe20f"
      },
      "execution_count": 7,
      "outputs": [
        {
          "output_type": "execute_result",
          "data": {
            "text/plain": [
              "   target                                               text\n",
              "0       0  @switchfoot http://twitpic.com/2y1zl - Awww, t...\n",
              "1       0  is upset that he can't update his Facebook by ...\n",
              "2       0  @Kenichan I dived many times for the ball. Man...\n",
              "3       0    my whole body feels itchy and like its on fire \n",
              "4       0  @nationwideclass no, it's not behaving at all...."
            ],
            "text/html": [
              "\n",
              "  <div id=\"df-5cbbb487-6f9a-4426-9320-3623c003b406\" class=\"colab-df-container\">\n",
              "    <div>\n",
              "<style scoped>\n",
              "    .dataframe tbody tr th:only-of-type {\n",
              "        vertical-align: middle;\n",
              "    }\n",
              "\n",
              "    .dataframe tbody tr th {\n",
              "        vertical-align: top;\n",
              "    }\n",
              "\n",
              "    .dataframe thead th {\n",
              "        text-align: right;\n",
              "    }\n",
              "</style>\n",
              "<table border=\"1\" class=\"dataframe\">\n",
              "  <thead>\n",
              "    <tr style=\"text-align: right;\">\n",
              "      <th></th>\n",
              "      <th>target</th>\n",
              "      <th>text</th>\n",
              "    </tr>\n",
              "  </thead>\n",
              "  <tbody>\n",
              "    <tr>\n",
              "      <th>0</th>\n",
              "      <td>0</td>\n",
              "      <td>@switchfoot http://twitpic.com/2y1zl - Awww, t...</td>\n",
              "    </tr>\n",
              "    <tr>\n",
              "      <th>1</th>\n",
              "      <td>0</td>\n",
              "      <td>is upset that he can't update his Facebook by ...</td>\n",
              "    </tr>\n",
              "    <tr>\n",
              "      <th>2</th>\n",
              "      <td>0</td>\n",
              "      <td>@Kenichan I dived many times for the ball. Man...</td>\n",
              "    </tr>\n",
              "    <tr>\n",
              "      <th>3</th>\n",
              "      <td>0</td>\n",
              "      <td>my whole body feels itchy and like its on fire</td>\n",
              "    </tr>\n",
              "    <tr>\n",
              "      <th>4</th>\n",
              "      <td>0</td>\n",
              "      <td>@nationwideclass no, it's not behaving at all....</td>\n",
              "    </tr>\n",
              "  </tbody>\n",
              "</table>\n",
              "</div>\n",
              "    <div class=\"colab-df-buttons\">\n",
              "\n",
              "  <div class=\"colab-df-container\">\n",
              "    <button class=\"colab-df-convert\" onclick=\"convertToInteractive('df-5cbbb487-6f9a-4426-9320-3623c003b406')\"\n",
              "            title=\"Convert this dataframe to an interactive table.\"\n",
              "            style=\"display:none;\">\n",
              "\n",
              "  <svg xmlns=\"http://www.w3.org/2000/svg\" height=\"24px\" viewBox=\"0 -960 960 960\">\n",
              "    <path d=\"M120-120v-720h720v720H120Zm60-500h600v-160H180v160Zm220 220h160v-160H400v160Zm0 220h160v-160H400v160ZM180-400h160v-160H180v160Zm440 0h160v-160H620v160ZM180-180h160v-160H180v160Zm440 0h160v-160H620v160Z\"/>\n",
              "  </svg>\n",
              "    </button>\n",
              "\n",
              "  <style>\n",
              "    .colab-df-container {\n",
              "      display:flex;\n",
              "      gap: 12px;\n",
              "    }\n",
              "\n",
              "    .colab-df-convert {\n",
              "      background-color: #E8F0FE;\n",
              "      border: none;\n",
              "      border-radius: 50%;\n",
              "      cursor: pointer;\n",
              "      display: none;\n",
              "      fill: #1967D2;\n",
              "      height: 32px;\n",
              "      padding: 0 0 0 0;\n",
              "      width: 32px;\n",
              "    }\n",
              "\n",
              "    .colab-df-convert:hover {\n",
              "      background-color: #E2EBFA;\n",
              "      box-shadow: 0px 1px 2px rgba(60, 64, 67, 0.3), 0px 1px 3px 1px rgba(60, 64, 67, 0.15);\n",
              "      fill: #174EA6;\n",
              "    }\n",
              "\n",
              "    .colab-df-buttons div {\n",
              "      margin-bottom: 4px;\n",
              "    }\n",
              "\n",
              "    [theme=dark] .colab-df-convert {\n",
              "      background-color: #3B4455;\n",
              "      fill: #D2E3FC;\n",
              "    }\n",
              "\n",
              "    [theme=dark] .colab-df-convert:hover {\n",
              "      background-color: #434B5C;\n",
              "      box-shadow: 0px 1px 3px 1px rgba(0, 0, 0, 0.15);\n",
              "      filter: drop-shadow(0px 1px 2px rgba(0, 0, 0, 0.3));\n",
              "      fill: #FFFFFF;\n",
              "    }\n",
              "  </style>\n",
              "\n",
              "    <script>\n",
              "      const buttonEl =\n",
              "        document.querySelector('#df-5cbbb487-6f9a-4426-9320-3623c003b406 button.colab-df-convert');\n",
              "      buttonEl.style.display =\n",
              "        google.colab.kernel.accessAllowed ? 'block' : 'none';\n",
              "\n",
              "      async function convertToInteractive(key) {\n",
              "        const element = document.querySelector('#df-5cbbb487-6f9a-4426-9320-3623c003b406');\n",
              "        const dataTable =\n",
              "          await google.colab.kernel.invokeFunction('convertToInteractive',\n",
              "                                                    [key], {});\n",
              "        if (!dataTable) return;\n",
              "\n",
              "        const docLinkHtml = 'Like what you see? Visit the ' +\n",
              "          '<a target=\"_blank\" href=https://colab.research.google.com/notebooks/data_table.ipynb>data table notebook</a>'\n",
              "          + ' to learn more about interactive tables.';\n",
              "        element.innerHTML = '';\n",
              "        dataTable['output_type'] = 'display_data';\n",
              "        await google.colab.output.renderOutput(dataTable, element);\n",
              "        const docLink = document.createElement('div');\n",
              "        docLink.innerHTML = docLinkHtml;\n",
              "        element.appendChild(docLink);\n",
              "      }\n",
              "    </script>\n",
              "  </div>\n",
              "\n",
              "\n",
              "<div id=\"df-df76f229-c997-447e-b6b9-169610caddce\">\n",
              "  <button class=\"colab-df-quickchart\" onclick=\"quickchart('df-df76f229-c997-447e-b6b9-169610caddce')\"\n",
              "            title=\"Suggest charts\"\n",
              "            style=\"display:none;\">\n",
              "\n",
              "<svg xmlns=\"http://www.w3.org/2000/svg\" height=\"24px\"viewBox=\"0 0 24 24\"\n",
              "     width=\"24px\">\n",
              "    <g>\n",
              "        <path d=\"M19 3H5c-1.1 0-2 .9-2 2v14c0 1.1.9 2 2 2h14c1.1 0 2-.9 2-2V5c0-1.1-.9-2-2-2zM9 17H7v-7h2v7zm4 0h-2V7h2v10zm4 0h-2v-4h2v4z\"/>\n",
              "    </g>\n",
              "</svg>\n",
              "  </button>\n",
              "\n",
              "<style>\n",
              "  .colab-df-quickchart {\n",
              "      --bg-color: #E8F0FE;\n",
              "      --fill-color: #1967D2;\n",
              "      --hover-bg-color: #E2EBFA;\n",
              "      --hover-fill-color: #174EA6;\n",
              "      --disabled-fill-color: #AAA;\n",
              "      --disabled-bg-color: #DDD;\n",
              "  }\n",
              "\n",
              "  [theme=dark] .colab-df-quickchart {\n",
              "      --bg-color: #3B4455;\n",
              "      --fill-color: #D2E3FC;\n",
              "      --hover-bg-color: #434B5C;\n",
              "      --hover-fill-color: #FFFFFF;\n",
              "      --disabled-bg-color: #3B4455;\n",
              "      --disabled-fill-color: #666;\n",
              "  }\n",
              "\n",
              "  .colab-df-quickchart {\n",
              "    background-color: var(--bg-color);\n",
              "    border: none;\n",
              "    border-radius: 50%;\n",
              "    cursor: pointer;\n",
              "    display: none;\n",
              "    fill: var(--fill-color);\n",
              "    height: 32px;\n",
              "    padding: 0;\n",
              "    width: 32px;\n",
              "  }\n",
              "\n",
              "  .colab-df-quickchart:hover {\n",
              "    background-color: var(--hover-bg-color);\n",
              "    box-shadow: 0 1px 2px rgba(60, 64, 67, 0.3), 0 1px 3px 1px rgba(60, 64, 67, 0.15);\n",
              "    fill: var(--button-hover-fill-color);\n",
              "  }\n",
              "\n",
              "  .colab-df-quickchart-complete:disabled,\n",
              "  .colab-df-quickchart-complete:disabled:hover {\n",
              "    background-color: var(--disabled-bg-color);\n",
              "    fill: var(--disabled-fill-color);\n",
              "    box-shadow: none;\n",
              "  }\n",
              "\n",
              "  .colab-df-spinner {\n",
              "    border: 2px solid var(--fill-color);\n",
              "    border-color: transparent;\n",
              "    border-bottom-color: var(--fill-color);\n",
              "    animation:\n",
              "      spin 1s steps(1) infinite;\n",
              "  }\n",
              "\n",
              "  @keyframes spin {\n",
              "    0% {\n",
              "      border-color: transparent;\n",
              "      border-bottom-color: var(--fill-color);\n",
              "      border-left-color: var(--fill-color);\n",
              "    }\n",
              "    20% {\n",
              "      border-color: transparent;\n",
              "      border-left-color: var(--fill-color);\n",
              "      border-top-color: var(--fill-color);\n",
              "    }\n",
              "    30% {\n",
              "      border-color: transparent;\n",
              "      border-left-color: var(--fill-color);\n",
              "      border-top-color: var(--fill-color);\n",
              "      border-right-color: var(--fill-color);\n",
              "    }\n",
              "    40% {\n",
              "      border-color: transparent;\n",
              "      border-right-color: var(--fill-color);\n",
              "      border-top-color: var(--fill-color);\n",
              "    }\n",
              "    60% {\n",
              "      border-color: transparent;\n",
              "      border-right-color: var(--fill-color);\n",
              "    }\n",
              "    80% {\n",
              "      border-color: transparent;\n",
              "      border-right-color: var(--fill-color);\n",
              "      border-bottom-color: var(--fill-color);\n",
              "    }\n",
              "    90% {\n",
              "      border-color: transparent;\n",
              "      border-bottom-color: var(--fill-color);\n",
              "    }\n",
              "  }\n",
              "</style>\n",
              "\n",
              "  <script>\n",
              "    async function quickchart(key) {\n",
              "      const quickchartButtonEl =\n",
              "        document.querySelector('#' + key + ' button');\n",
              "      quickchartButtonEl.disabled = true;  // To prevent multiple clicks.\n",
              "      quickchartButtonEl.classList.add('colab-df-spinner');\n",
              "      try {\n",
              "        const charts = await google.colab.kernel.invokeFunction(\n",
              "            'suggestCharts', [key], {});\n",
              "      } catch (error) {\n",
              "        console.error('Error during call to suggestCharts:', error);\n",
              "      }\n",
              "      quickchartButtonEl.classList.remove('colab-df-spinner');\n",
              "      quickchartButtonEl.classList.add('colab-df-quickchart-complete');\n",
              "    }\n",
              "    (() => {\n",
              "      let quickchartButtonEl =\n",
              "        document.querySelector('#df-df76f229-c997-447e-b6b9-169610caddce button');\n",
              "      quickchartButtonEl.style.display =\n",
              "        google.colab.kernel.accessAllowed ? 'block' : 'none';\n",
              "    })();\n",
              "  </script>\n",
              "</div>\n",
              "\n",
              "    </div>\n",
              "  </div>\n"
            ],
            "application/vnd.google.colaboratory.intrinsic+json": {
              "type": "dataframe",
              "variable_name": "df"
            }
          },
          "metadata": {},
          "execution_count": 7
        }
      ]
    },
    {
      "cell_type": "code",
      "source": [
        "df['target'] = df['target'].replace(4, 1)"
      ],
      "metadata": {
        "id": "pES1Z2inX2Lo"
      },
      "execution_count": 8,
      "outputs": []
    },
    {
      "cell_type": "code",
      "source": [
        "sns.countplot(data= df, x = 'target', palette = [\"red\", \"green\"], hue='target', legend=False)\n",
        "plt.show()"
      ],
      "metadata": {
        "id": "vm6wuTFjWFPb",
        "colab": {
          "base_uri": "https://localhost:8080/",
          "height": 449
        },
        "outputId": "d699d1f7-e156-4cf8-988b-92c589bd3eaa"
      },
      "execution_count": 9,
      "outputs": [
        {
          "output_type": "display_data",
          "data": {
            "text/plain": [
              "<Figure size 640x480 with 1 Axes>"
            ],
            "image/png": "[encoded data removed]"
          },
          "metadata": {}
        }
      ]
    },
    {
      "cell_type": "markdown",
      "source": [
        "## Text Pre-Processing"
      ],
      "metadata": {
        "id": "Vad94qo6OHFP"
      }
    },
    {
      "cell_type": "code",
      "source": [
        "stopwords = set(stopwords.words('english'))"
      ],
      "metadata": {
        "id": "pZdNjRZceKUb"
      },
      "execution_count": 10,
      "outputs": []
    },
    {
      "cell_type": "code",
      "source": [
        "ps = PorterStemmer()\n",
        "corpus = []\n",
        "\n",
        "for text in df['text']:\n",
        "    text = re.sub(r'http[s]?://\\S+', ' ', text)\n",
        "    text = re.sub('@\\S+', '', text)\n",
        "    text = re.sub('[^A-Za-z]', ' ', text)\n",
        "\n",
        "    text = text.lower()\n",
        "    text = text.split()\n",
        "    text = [word for word in text if not word in stopwords]\n",
        "    text = [ps.stem(word) for word in text]\n",
        "    text = ' '.join(text)\n",
        "\n",
        "    corpus.append(text)"
      ],
      "metadata": {
        "id": "Ww1LWcRIW1Jx"
      },
      "execution_count": 11,
      "outputs": []
    },
    {
      "cell_type": "markdown",
      "source": [
        "Maybe don't remove punctuation"
      ],
      "metadata": {
        "id": "K9HhCa1thdf-"
      }
    },
    {
      "cell_type": "markdown",
      "source": [
        "## Feature Extraction"
      ],
      "metadata": {
        "id": "MrX7puUGSOl1"
      }
    },
    {
      "cell_type": "code",
      "source": [
        "# vectorizer = TfidfVectorizer(ngram_range=(1,2), max_features=500000)\n",
        "# X = vectorizer.fit_transform(corpus)"
      ],
      "metadata": {
        "id": "R4REzTzuhi3I"
      },
      "execution_count": null,
      "outputs": []
    },
    {
      "cell_type": "code",
      "source": [
        "# with open('vectorizer.pkl', 'wb') as file:\n",
        "#     pickle.dump(vectorizer, file)"
      ],
      "metadata": {
        "id": "leljaofYtz1J"
      },
      "execution_count": null,
      "outputs": []
    },
    {
      "cell_type": "code",
      "source": [
        "vectorizer = pickle.load(open('vectorizer.pkl','rb'))\n",
        "X = vectorizer.transform(corpus)"
      ],
      "metadata": {
        "id": "6cA5y-i5f_DH"
      },
      "execution_count": 12,
      "outputs": []
    },
    {
      "cell_type": "code",
      "source": [
        "X.shape # Each row is a document (tweet) and each column is a word/pair of words"
      ],
      "metadata": {
        "id": "XguPYihSvcyL",
        "colab": {
          "base_uri": "https://localhost:8080/"
        },
        "outputId": "58db69fe-cacf-43da-d8e3-21cad2ec3bcb"
      },
      "execution_count": 13,
      "outputs": [
        {
          "output_type": "execute_result",
          "data": {
            "text/plain": [
              "(1600000, 500000)"
            ]
          },
          "metadata": {},
          "execution_count": 13
        }
      ]
    },
    {
      "cell_type": "code",
      "source": [
        "y = df['target']\n",
        "y.shape"
      ],
      "metadata": {
        "id": "drJnplKGTKF9",
        "colab": {
          "base_uri": "https://localhost:8080/"
        },
        "outputId": "1b2e2b36-02eb-4e81-a011-a3e30fa611a3"
      },
      "execution_count": 14,
      "outputs": [
        {
          "output_type": "execute_result",
          "data": {
            "text/plain": [
              "(1600000,)"
            ]
          },
          "metadata": {},
          "execution_count": 14
        }
      ]
    },
    {
      "cell_type": "markdown",
      "source": [
        "## Model Training"
      ],
      "metadata": {
        "id": "gJuVSAuASsxQ"
      }
    },
    {
      "cell_type": "code",
      "source": [
        "X_train, X_test, y_train, y_test = train_test_split(X, y, test_size = 0.25, random_state = 1)"
      ],
      "metadata": {
        "id": "nKRw8FouvBE-"
      },
      "execution_count": 15,
      "outputs": []
    },
    {
      "cell_type": "code",
      "source": [
        "print(f\"X Train: {X_train.shape}\")\n",
        "print(f\"y Train: {y_train.shape}\")\n",
        "print(f\"X Test: {X_test.shape}\")\n",
        "print(f\"y Test: {y_test.shape}\")"
      ],
      "metadata": {
        "id": "X1trhAL3TwFK",
        "colab": {
          "base_uri": "https://localhost:8080/"
        },
        "outputId": "1ed377b9-6040-45ad-b151-0d01fc338288"
      },
      "execution_count": 16,
      "outputs": [
        {
          "output_type": "stream",
          "name": "stdout",
          "text": [
            "X Train: (1200000, 500000)\n",
            "y Train: (1200000,)\n",
            "X Test: (400000, 500000)\n",
            "y Test: (400000,)\n"
          ]
        }
      ]
    },
    {
      "cell_type": "code",
      "source": [
        "def train_model(model, X_train, y_train):\n",
        "  model.fit(X_train, y_train)\n",
        "  y_pred = model.predict(X_test)\n",
        "  print(\"Confusion matrix: \\n\",confusion_matrix(y_pred,y_test))\n",
        "  print(\"Accuracy score: \",accuracy_score(y_pred,y_test))\n",
        "  print(\"Classification Report: \\n\",classification_report(y_pred,y_test))"
      ],
      "metadata": {
        "id": "BSQghR6emDHv"
      },
      "execution_count": 17,
      "outputs": []
    },
    {
      "cell_type": "code",
      "source": [
        "model1 = SGDClassifier(loss='log_loss', max_iter=500)\n",
        "model2 = BernoulliNB()\n",
        "model3 = MultinomialNB()\n",
        "model4 = LogisticRegression(max_iter=500)\n",
        "model5 = LinearSVC(max_iter=500)\n",
        "models = [model1, model2, model3, model4, model5]"
      ],
      "metadata": {
        "id": "P1MLGtZobjuv"
      },
      "execution_count": 35,
      "outputs": []
    },
    {
      "cell_type": "code",
      "source": [
        "i = 1\n",
        "for model in models:\n",
        "  print(\"Model:\",i)\n",
        "  train_model(model, X_train, y_train)\n",
        "  print(\"-----------------------------------------------------------\\n\")\n",
        "  i += 1"
      ],
      "metadata": {
        "id": "No09ZCKnVEht",
        "colab": {
          "base_uri": "https://localhost:8080/"
        },
        "outputId": "46a9a21f-a2d4-4738-997d-197383d42652"
      },
      "execution_count": 36,
      "outputs": [
        {
          "output_type": "stream",
          "name": "stdout",
          "text": [
            "Model: 1\n",
            "Confusion matrix: \n",
            " [[147350  44905]\n",
            " [ 52899 154846]]\n",
            "Accuracy score:  0.75549\n",
            "Classification Report: \n",
            "               precision    recall  f1-score   support\n",
            "\n",
            "           0       0.74      0.77      0.75    192255\n",
            "           1       0.78      0.75      0.76    207745\n",
            "\n",
            "    accuracy                           0.76    400000\n",
            "   macro avg       0.76      0.76      0.76    400000\n",
            "weighted avg       0.76      0.76      0.76    400000\n",
            "\n",
            "-----------------------------------------------------------\n",
            "\n",
            "Model: 2\n",
            "Confusion matrix: \n",
            " [[150974  40333]\n",
            " [ 49275 159418]]\n",
            "Accuracy score:  0.77598\n",
            "Classification Report: \n",
            "               precision    recall  f1-score   support\n",
            "\n",
            "           0       0.75      0.79      0.77    191307\n",
            "           1       0.80      0.76      0.78    208693\n",
            "\n",
            "    accuracy                           0.78    400000\n",
            "   macro avg       0.78      0.78      0.78    400000\n",
            "weighted avg       0.78      0.78      0.78    400000\n",
            "\n",
            "-----------------------------------------------------------\n",
            "\n",
            "Model: 3\n",
            "Confusion matrix: \n",
            " [[154196  43646]\n",
            " [ 46053 156105]]\n",
            "Accuracy score:  0.7757525\n",
            "Classification Report: \n",
            "               precision    recall  f1-score   support\n",
            "\n",
            "           0       0.77      0.78      0.77    197842\n",
            "           1       0.78      0.77      0.78    202158\n",
            "\n",
            "    accuracy                           0.78    400000\n",
            "   macro avg       0.78      0.78      0.78    400000\n",
            "weighted avg       0.78      0.78      0.78    400000\n",
            "\n",
            "-----------------------------------------------------------\n",
            "\n",
            "Model: 4\n",
            "Confusion matrix: \n",
            " [[150856  39303]\n",
            " [ 49393 160448]]\n",
            "Accuracy score:  0.77826\n",
            "Classification Report: \n",
            "               precision    recall  f1-score   support\n",
            "\n",
            "           0       0.75      0.79      0.77    190159\n",
            "           1       0.80      0.76      0.78    209841\n",
            "\n",
            "    accuracy                           0.78    400000\n",
            "   macro avg       0.78      0.78      0.78    400000\n",
            "weighted avg       0.78      0.78      0.78    400000\n",
            "\n",
            "-----------------------------------------------------------\n",
            "\n",
            "Model: 5\n",
            "Confusion matrix: \n",
            " [[151199  41956]\n",
            " [ 49050 157795]]\n",
            "Accuracy score:  0.772485\n",
            "Classification Report: \n",
            "               precision    recall  f1-score   support\n",
            "\n",
            "           0       0.76      0.78      0.77    193155\n",
            "           1       0.79      0.76      0.78    206845\n",
            "\n",
            "    accuracy                           0.77    400000\n",
            "   macro avg       0.77      0.77      0.77    400000\n",
            "weighted avg       0.77      0.77      0.77    400000\n",
            "\n",
            "-----------------------------------------------------------\n",
            "\n"
          ]
        }
      ]
    },
    {
      "cell_type": "markdown",
      "source": [
        "Logistic Regression was the best performer, will tune its parameters"
      ],
      "metadata": {
        "id": "ICPAm4SVqvDD"
      }
    },
    {
      "cell_type": "markdown",
      "source": [
        "## Hyperparameter Tuning using Optuna"
      ],
      "metadata": {
        "id": "mG44p8ugj_uc"
      }
    },
    {
      "cell_type": "code",
      "source": [
        "def objective(trial):\n",
        "\n",
        "    C = trial.suggest_float('C', 0.5, 2, log=True)\n",
        "    penalty = trial.suggest_categorical('penalty', ['l2'])\n",
        "    solver = trial.suggest_categorical('solver', ['liblinear', 'saga'])\n",
        "\n",
        "    model = LogisticRegression(C=C, penalty=penalty, solver=solver)\n",
        "\n",
        "    model.fit(X_train, y_train)\n",
        "\n",
        "    y_pred = model.predict(X_test)\n",
        "    accuracy = accuracy_score(y_pred,y_test)\n",
        "\n",
        "    return accuracy"
      ],
      "metadata": {
        "id": "fAwjM3Xmob3V"
      },
      "execution_count": 31,
      "outputs": []
    },
    {
      "cell_type": "code",
      "source": [
        "study = optuna.create_study(direction='maximize')\n",
        "study.optimize(objective, n_trials=20, n_jobs = 8)"
      ],
      "metadata": {
        "colab": {
          "base_uri": "https://localhost:8080/"
        },
        "id": "XieUUamoob0Z",
        "outputId": "b65fab11-4ee7-47ad-d39a-6c3625b1f1d3"
      },
      "execution_count": 32,
      "outputs": [
        {
          "output_type": "stream",
          "name": "stderr",
          "text": [
            "[I 2025-02-04 20:01:39,893] A new study created in memory with name: no-name-2da7aad4-914f-458e-9164-d10c9b461e3f\n",
            "[I 2025-02-04 20:02:52,584] Trial 0 finished with value: 0.7899275 and parameters: {'C': 0.6705310959528664, 'penalty': 'l2', 'solver': 'liblinear'}. Best is trial 0 with value: 0.7899275.\n",
            "[I 2025-02-04 20:03:21,605] Trial 4 finished with value: 0.7901125 and parameters: {'C': 1.7417620987814164, 'penalty': 'l2', 'solver': 'liblinear'}. Best is trial 4 with value: 0.7901125.\n",
            "[I 2025-02-04 20:03:25,776] Trial 6 finished with value: 0.7903025 and parameters: {'C': 1.5493497553905464, 'penalty': 'l2', 'solver': 'liblinear'}. Best is trial 6 with value: 0.7903025.\n",
            "[I 2025-02-04 20:03:26,496] Trial 2 finished with value: 0.7906 and parameters: {'C': 1.231071404112785, 'penalty': 'l2', 'solver': 'liblinear'}. Best is trial 2 with value: 0.7906.\n",
            "[I 2025-02-04 20:03:28,634] Trial 5 finished with value: 0.7905825 and parameters: {'C': 1.2155246633746346, 'penalty': 'l2', 'solver': 'saga'}. Best is trial 2 with value: 0.7906.\n",
            "[I 2025-02-04 20:03:34,959] Trial 3 finished with value: 0.7905925 and parameters: {'C': 1.0325622929112703, 'penalty': 'l2', 'solver': 'saga'}. Best is trial 2 with value: 0.7906.\n",
            "[I 2025-02-04 20:03:36,765] Trial 1 finished with value: 0.7903675 and parameters: {'C': 1.513502167789265, 'penalty': 'l2', 'solver': 'saga'}. Best is trial 2 with value: 0.7906.\n",
            "[I 2025-02-04 20:03:37,931] Trial 7 finished with value: 0.790565 and parameters: {'C': 1.3884161548316099, 'penalty': 'l2', 'solver': 'saga'}. Best is trial 2 with value: 0.7906.\n",
            "[I 2025-02-04 20:04:45,425] Trial 11 finished with value: 0.7901375 and parameters: {'C': 0.7393969329213044, 'penalty': 'l2', 'solver': 'liblinear'}. Best is trial 2 with value: 0.7906.\n",
            "[I 2025-02-04 20:04:46,324] Trial 12 finished with value: 0.79017 and parameters: {'C': 0.7547404483465774, 'penalty': 'l2', 'solver': 'liblinear'}. Best is trial 2 with value: 0.7906.\n",
            "[I 2025-02-04 20:04:51,624] Trial 8 finished with value: 0.7899325 and parameters: {'C': 0.6778826886730704, 'penalty': 'l2', 'solver': 'saga'}. Best is trial 2 with value: 0.7906.\n",
            "[I 2025-02-04 20:05:01,730] Trial 10 finished with value: 0.79031 and parameters: {'C': 0.7772458771877567, 'penalty': 'l2', 'solver': 'liblinear'}. Best is trial 2 with value: 0.7906.\n",
            "[I 2025-02-04 20:05:15,929] Trial 9 finished with value: 0.7895175 and parameters: {'C': 0.5982837234356464, 'penalty': 'l2', 'solver': 'saga'}. Best is trial 2 with value: 0.7906.\n",
            "[I 2025-02-04 20:05:16,208] Trial 13 finished with value: 0.78933 and parameters: {'C': 0.5597450688947554, 'penalty': 'l2', 'solver': 'saga'}. Best is trial 2 with value: 0.7906.\n",
            "[I 2025-02-04 20:05:27,178] Trial 15 finished with value: 0.7903 and parameters: {'C': 1.6652091683275463, 'penalty': 'l2', 'solver': 'liblinear'}. Best is trial 2 with value: 0.7906.\n",
            "[I 2025-02-04 20:05:28,751] Trial 14 finished with value: 0.790645 and parameters: {'C': 1.2018152012730499, 'penalty': 'l2', 'solver': 'liblinear'}. Best is trial 14 with value: 0.790645.\n",
            "[I 2025-02-04 20:05:46,160] Trial 17 finished with value: 0.7892525 and parameters: {'C': 0.5172554083100933, 'penalty': 'l2', 'solver': 'liblinear'}. Best is trial 14 with value: 0.790645.\n",
            "[I 2025-02-04 20:06:06,258] Trial 16 finished with value: 0.7905775 and parameters: {'C': 1.4043790585292395, 'penalty': 'l2', 'solver': 'saga'}. Best is trial 14 with value: 0.790645.\n",
            "[I 2025-02-04 20:06:07,367] Trial 18 finished with value: 0.79057 and parameters: {'C': 1.004585950933473, 'penalty': 'l2', 'solver': 'saga'}. Best is trial 14 with value: 0.790645.\n",
            "[I 2025-02-04 20:06:14,109] Trial 19 finished with value: 0.7906 and parameters: {'C': 1.027008825698802, 'penalty': 'l2', 'solver': 'saga'}. Best is trial 14 with value: 0.790645.\n"
          ]
        }
      ]
    },
    {
      "cell_type": "code",
      "source": [
        "study.best_params"
      ],
      "metadata": {
        "colab": {
          "base_uri": "https://localhost:8080/"
        },
        "id": "m0L8ARPp_PRH",
        "outputId": "63c21fd5-895b-40a6-fa4c-644350d1bbdf"
      },
      "execution_count": 37,
      "outputs": [
        {
          "output_type": "execute_result",
          "data": {
            "text/plain": [
              "{'C': 1.2018152012730499, 'penalty': 'l2', 'solver': 'liblinear'}"
            ]
          },
          "metadata": {},
          "execution_count": 37
        }
      ]
    },
    {
      "cell_type": "code",
      "source": [
        "best_model = LogisticRegression(**study.best_params)\n",
        "train_model(best_model, X_train, y_train)"
      ],
      "metadata": {
        "colab": {
          "base_uri": "https://localhost:8080/"
        },
        "id": "E4QocHMD_3ey",
        "outputId": "7c19efbd-71ee-4a4d-a12a-8c52405bc699"
      },
      "execution_count": 38,
      "outputs": [
        {
          "output_type": "stream",
          "name": "stdout",
          "text": [
            "Confusion matrix: \n",
            " [[154067  37560]\n",
            " [ 46182 162191]]\n",
            "Accuracy score:  0.790645\n",
            "Classification Report: \n",
            "               precision    recall  f1-score   support\n",
            "\n",
            "           0       0.77      0.80      0.79    191627\n",
            "           1       0.81      0.78      0.79    208373\n",
            "\n",
            "    accuracy                           0.79    400000\n",
            "   macro avg       0.79      0.79      0.79    400000\n",
            "weighted avg       0.79      0.79      0.79    400000\n",
            "\n"
          ]
        }
      ]
    },
    {
      "cell_type": "code",
      "source": [
        "with open(\"model.pkl\",\"wb\") as file:\n",
        "  pickle.dump(model,file)"
      ],
      "metadata": {
        "id": "l6V911bDk-mA"
      },
      "execution_count": 39,
      "outputs": []
    }
  ]
}